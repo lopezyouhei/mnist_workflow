{
 "cells": [
  {
   "cell_type": "code",
   "execution_count": 31,
   "metadata": {},
   "outputs": [
    {
     "ename": "ModuleNotFoundError",
     "evalue": "No module named 'LoadMNIST'",
     "output_type": "error",
     "traceback": [
      "\u001b[1;31m---------------------------------------------------------------------------\u001b[0m",
      "\u001b[1;31mModuleNotFoundError\u001b[0m                       Traceback (most recent call last)",
      "\u001b[1;32mc:\\Users\\lopez\\Projects\\mnist_workflow\\notebooks\\data_visualization.ipynb Cell 1\u001b[0m line \u001b[0;36m7\n\u001b[0;32m      <a href='vscode-notebook-cell:/c%3A/Users/lopez/Projects/mnist_workflow/notebooks/data_visualization.ipynb#W0sZmlsZQ%3D%3D?line=2'>3</a>\u001b[0m \u001b[39mimport\u001b[39;00m \u001b[39mtorchvision\u001b[39;00m\n\u001b[0;32m      <a href='vscode-notebook-cell:/c%3A/Users/lopez/Projects/mnist_workflow/notebooks/data_visualization.ipynb#W0sZmlsZQ%3D%3D?line=4'>5</a>\u001b[0m sys\u001b[39m.\u001b[39mpath\u001b[39m.\u001b[39mappend(\u001b[39m'\u001b[39m\u001b[39m../mnist_code\u001b[39m\u001b[39m'\u001b[39m)\n\u001b[1;32m----> <a href='vscode-notebook-cell:/c%3A/Users/lopez/Projects/mnist_workflow/notebooks/data_visualization.ipynb#W0sZmlsZQ%3D%3D?line=6'>7</a>\u001b[0m \u001b[39mimport\u001b[39;00m \u001b[39mLoadMNIST\u001b[39;00m\n",
      "\u001b[1;31mModuleNotFoundError\u001b[0m: No module named 'LoadMNIST'"
     ]
    }
   ],
   "source": [
    "import sys\n",
    "import torch\n",
    "import torchvision\n",
    "\n",
    "sys.path.append('../mnist_code')\n",
    "\n",
    "import LoadMNIST"
   ]
  },
  {
   "cell_type": "code",
   "execution_count": 29,
   "metadata": {},
   "outputs": [
    {
     "ename": "TypeError",
     "evalue": "LoadMNIST.load_raw_mnist() missing 1 required positional argument: 'self'",
     "output_type": "error",
     "traceback": [
      "\u001b[1;31m---------------------------------------------------------------------------\u001b[0m",
      "\u001b[1;31mTypeError\u001b[0m                                 Traceback (most recent call last)",
      "\u001b[1;32mc:\\Users\\lopez\\Projects\\mnist_workflow\\notebooks\\data_visualization.ipynb Cell 2\u001b[0m line \u001b[0;36m1\n\u001b[1;32m----> <a href='vscode-notebook-cell:/c%3A/Users/lopez/Projects/mnist_workflow/notebooks/data_visualization.ipynb#W1sZmlsZQ%3D%3D?line=0'>1</a>\u001b[0m train, test \u001b[39m=\u001b[39m LoadMNIST\u001b[39m.\u001b[39;49mload_raw_mnist()\n\u001b[0;32m      <a href='vscode-notebook-cell:/c%3A/Users/lopez/Projects/mnist_workflow/notebooks/data_visualization.ipynb#W1sZmlsZQ%3D%3D?line=2'>3</a>\u001b[0m \u001b[39mprint\u001b[39m(\u001b[39mlen\u001b[39m(train), \u001b[39mlen\u001b[39m(test))\n",
      "\u001b[1;31mTypeError\u001b[0m: LoadMNIST.load_raw_mnist() missing 1 required positional argument: 'self'"
     ]
    }
   ],
   "source": [
    "train, test = LoadMNIST.load_raw_mnist()\n",
    "\n",
    "print(len(train), len(test))"
   ]
  }
 ],
 "metadata": {
  "kernelspec": {
   "display_name": "xai-project",
   "language": "python",
   "name": "python3"
  },
  "language_info": {
   "codemirror_mode": {
    "name": "ipython",
    "version": 3
   },
   "file_extension": ".py",
   "mimetype": "text/x-python",
   "name": "python",
   "nbconvert_exporter": "python",
   "pygments_lexer": "ipython3",
   "version": "3.11.5"
  }
 },
 "nbformat": 4,
 "nbformat_minor": 2
}
