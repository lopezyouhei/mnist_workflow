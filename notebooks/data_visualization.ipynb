{
 "cells": [
  {
   "cell_type": "code",
   "execution_count": 1,
   "metadata": {},
   "outputs": [],
   "source": [
    "import torch\n",
    "import torchvision\n",
    "\n",
    "import sys\n",
    "sys.path.append('../')\n",
    "from mnist_code import LoadMNIST"
   ]
  },
  {
   "cell_type": "code",
   "execution_count": 3,
   "metadata": {},
   "outputs": [
    {
     "name": "stdout",
     "output_type": "stream",
     "text": [
      "c:\\Users\\lopez\\Projects\\mnist_workflow\\data/\n",
      "60000 10000\n"
     ]
    }
   ],
   "source": [
    "mnist = LoadMNIST()\n",
    "train, test = mnist.load_raw_mnist()\n",
    "\n",
    "print(len(train), len(test))"
   ]
  }
 ],
 "metadata": {
  "kernelspec": {
   "display_name": "xai-project",
   "language": "python",
   "name": "python3"
  },
  "language_info": {
   "codemirror_mode": {
    "name": "ipython",
    "version": 3
   },
   "file_extension": ".py",
   "mimetype": "text/x-python",
   "name": "python",
   "nbconvert_exporter": "python",
   "pygments_lexer": "ipython3",
   "version": "3.11.5"
  }
 },
 "nbformat": 4,
 "nbformat_minor": 2
}
